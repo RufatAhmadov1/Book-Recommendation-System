{
 "cells": [
  {
   "cell_type": "code",
   "execution_count": 1,
   "id": "8a500166",
   "metadata": {},
   "outputs": [],
   "source": [
    "import pandas as pd\n",
    "from sklearn.feature_extraction.text import TfidfVectorizer\n",
    "from sklearn.metrics.pairwise import cosine_similarity\n",
    "from sklearn.metrics.pairwise import linear_kernel\n",
    "from scipy.sparse import csr_matrix"
   ]
  },
  {
   "cell_type": "code",
   "execution_count": 2,
   "id": "3dc9a299",
   "metadata": {},
   "outputs": [],
   "source": [
    "df = pd.read_csv('books.csv')"
   ]
  },
  {
   "cell_type": "code",
   "execution_count": 3,
   "id": "6338ec15",
   "metadata": {
    "scrolled": true
   },
   "outputs": [
    {
     "data": {
      "text/plain": [
       "(12372, 6)"
      ]
     },
     "execution_count": 3,
     "metadata": {},
     "output_type": "execute_result"
    }
   ],
   "source": [
    "df.shape"
   ]
  },
  {
   "cell_type": "code",
   "execution_count": 4,
   "id": "e1e6a93b",
   "metadata": {},
   "outputs": [],
   "source": [
    "pd.set_option('display.max_columns', df.shape[1])"
   ]
  },
  {
   "cell_type": "code",
   "execution_count": 5,
   "id": "eb540473",
   "metadata": {},
   "outputs": [
    {
     "data": {
      "text/html": [
       "<div>\n",
       "<style scoped>\n",
       "    .dataframe tbody tr th:only-of-type {\n",
       "        vertical-align: middle;\n",
       "    }\n",
       "\n",
       "    .dataframe tbody tr th {\n",
       "        vertical-align: top;\n",
       "    }\n",
       "\n",
       "    .dataframe thead th {\n",
       "        text-align: right;\n",
       "    }\n",
       "</style>\n",
       "<table border=\"1\" class=\"dataframe\">\n",
       "  <thead>\n",
       "    <tr style=\"text-align: right;\">\n",
       "      <th></th>\n",
       "      <th>url</th>\n",
       "      <th>title</th>\n",
       "      <th>description</th>\n",
       "      <th>genre</th>\n",
       "      <th>publishing house</th>\n",
       "      <th>author</th>\n",
       "    </tr>\n",
       "  </thead>\n",
       "  <tbody>\n",
       "    <tr>\n",
       "      <th>0</th>\n",
       "      <td>https://alinino.az//product/where-is-little-fi...</td>\n",
       "      <td>Where Is Little Fish?</td>\n",
       "      <td>Play hide-and-seek with Lucy Cousins's Little ...</td>\n",
       "      <td>Activity books</td>\n",
       "      <td>Walker Books Ltd</td>\n",
       "      <td>Lucy Cousins</td>\n",
       "    </tr>\n",
       "    <tr>\n",
       "      <th>1</th>\n",
       "      <td>https://alinino.az//product/uncommon-type-some...</td>\n",
       "      <td>Uncommon Type: Some Stories</td>\n",
       "      <td>A gentle Eastern European immigrant arrives in...</td>\n",
       "      <td>Romance</td>\n",
       "      <td>Audiobooks</td>\n",
       "      <td>Tom Hanks</td>\n",
       "    </tr>\n",
       "    <tr>\n",
       "      <th>2</th>\n",
       "      <td>https://alinino.az//product/trumpocracy-the-co...</td>\n",
       "      <td>Trumpocracy: The Corruption of the American Re...</td>\n",
       "      <td>\"From Russia to South Africa, from Turkey to t...</td>\n",
       "      <td>Politics</td>\n",
       "      <td>Harper</td>\n",
       "      <td>David Frum</td>\n",
       "    </tr>\n",
       "    <tr>\n",
       "      <th>3</th>\n",
       "      <td>https://alinino.az//product/the-storyteller-of...</td>\n",
       "      <td>The Storyteller of Casablanca</td>\n",
       "      <td>Morocco, 1941. With France having fallen to Na...</td>\n",
       "      <td>Romance</td>\n",
       "      <td>Lake Union Publishing</td>\n",
       "      <td>Fiona Valpy</td>\n",
       "    </tr>\n",
       "    <tr>\n",
       "      <th>4</th>\n",
       "      <td>https://alinino.az//product/the-secret-commonw...</td>\n",
       "      <td>The Secret Commonwealth: The Book of Dust Volu...</td>\n",
       "      <td>It is twenty years since the events of La Bell...</td>\n",
       "      <td>Dedective</td>\n",
       "      <td>Penguin and David Fickling Books</td>\n",
       "      <td>Philip Pullman</td>\n",
       "    </tr>\n",
       "  </tbody>\n",
       "</table>\n",
       "</div>"
      ],
      "text/plain": [
       "                                                 url  \\\n",
       "0  https://alinino.az//product/where-is-little-fi...   \n",
       "1  https://alinino.az//product/uncommon-type-some...   \n",
       "2  https://alinino.az//product/trumpocracy-the-co...   \n",
       "3  https://alinino.az//product/the-storyteller-of...   \n",
       "4  https://alinino.az//product/the-secret-commonw...   \n",
       "\n",
       "                                               title  \\\n",
       "0                              Where Is Little Fish?   \n",
       "1                        Uncommon Type: Some Stories   \n",
       "2  Trumpocracy: The Corruption of the American Re...   \n",
       "3                      The Storyteller of Casablanca   \n",
       "4  The Secret Commonwealth: The Book of Dust Volu...   \n",
       "\n",
       "                                         description           genre  \\\n",
       "0  Play hide-and-seek with Lucy Cousins's Little ...  Activity books   \n",
       "1  A gentle Eastern European immigrant arrives in...         Romance   \n",
       "2  \"From Russia to South Africa, from Turkey to t...        Politics   \n",
       "3  Morocco, 1941. With France having fallen to Na...         Romance   \n",
       "4  It is twenty years since the events of La Bell...       Dedective   \n",
       "\n",
       "                   publishing house          author  \n",
       "0                  Walker Books Ltd    Lucy Cousins  \n",
       "1                        Audiobooks       Tom Hanks  \n",
       "2                            Harper      David Frum  \n",
       "3             Lake Union Publishing     Fiona Valpy  \n",
       "4  Penguin and David Fickling Books  Philip Pullman  "
      ]
     },
     "execution_count": 5,
     "metadata": {},
     "output_type": "execute_result"
    }
   ],
   "source": [
    "df.head(5)"
   ]
  },
  {
   "cell_type": "code",
   "execution_count": 6,
   "id": "ab2463c6",
   "metadata": {},
   "outputs": [
    {
     "data": {
      "text/plain": [
       "url                 0.000000\n",
       "title               0.000000\n",
       "description         0.005092\n",
       "genre               0.063126\n",
       "publishing house    0.053750\n",
       "author              0.131992\n",
       "dtype: float64"
      ]
     },
     "execution_count": 6,
     "metadata": {},
     "output_type": "execute_result"
    }
   ],
   "source": [
    "df.isnull().mean()"
   ]
  },
  {
   "cell_type": "code",
   "execution_count": 7,
   "id": "5fef25d3",
   "metadata": {},
   "outputs": [
    {
     "data": {
      "text/plain": [
       "0"
      ]
     },
     "execution_count": 7,
     "metadata": {},
     "output_type": "execute_result"
    }
   ],
   "source": [
    "df.duplicated().sum()"
   ]
  },
  {
   "cell_type": "code",
   "execution_count": 8,
   "id": "b746120e",
   "metadata": {},
   "outputs": [],
   "source": [
    "df = df.drop_duplicates()"
   ]
  },
  {
   "cell_type": "code",
   "execution_count": 9,
   "id": "aa384aa2",
   "metadata": {},
   "outputs": [
    {
     "data": {
      "text/plain": [
       "(12372, 6)"
      ]
     },
     "execution_count": 9,
     "metadata": {},
     "output_type": "execute_result"
    }
   ],
   "source": [
    "df.shape"
   ]
  },
  {
   "cell_type": "code",
   "execution_count": 10,
   "id": "77e79162",
   "metadata": {},
   "outputs": [
    {
     "name": "stdout",
     "output_type": "stream",
     "text": [
      "<class 'pandas.core.frame.DataFrame'>\n",
      "Int64Index: 12372 entries, 0 to 12371\n",
      "Data columns (total 6 columns):\n",
      " #   Column            Non-Null Count  Dtype \n",
      "---  ------            --------------  ----- \n",
      " 0   url               12372 non-null  object\n",
      " 1   title             12372 non-null  object\n",
      " 2   description       12309 non-null  object\n",
      " 3   genre             11591 non-null  object\n",
      " 4   publishing house  11707 non-null  object\n",
      " 5   author            10739 non-null  object\n",
      "dtypes: object(6)\n",
      "memory usage: 676.6+ KB\n"
     ]
    }
   ],
   "source": [
    "df.info()"
   ]
  },
  {
   "cell_type": "code",
   "execution_count": 11,
   "id": "6d8f2e37",
   "metadata": {},
   "outputs": [
    {
     "data": {
      "text/plain": [
       "Index(['url', 'title', 'description', 'genre', 'publishing house', 'author'], dtype='object')"
      ]
     },
     "execution_count": 11,
     "metadata": {},
     "output_type": "execute_result"
    }
   ],
   "source": [
    "df.columns"
   ]
  },
  {
   "cell_type": "code",
   "execution_count": 12,
   "id": "98741a26",
   "metadata": {},
   "outputs": [],
   "source": [
    "columns_to_delete = ['url']\n",
    "df = df.drop(columns=columns_to_delete)"
   ]
  },
  {
   "cell_type": "code",
   "execution_count": 13,
   "id": "3ca99c9d",
   "metadata": {},
   "outputs": [
    {
     "data": {
      "text/plain": [
       "title                  0\n",
       "description           63\n",
       "genre                781\n",
       "publishing house     665\n",
       "author              1633\n",
       "dtype: int64"
      ]
     },
     "execution_count": 13,
     "metadata": {},
     "output_type": "execute_result"
    }
   ],
   "source": [
    "df.isna().sum()"
   ]
  },
  {
   "cell_type": "code",
   "execution_count": 14,
   "id": "489c4ac2",
   "metadata": {},
   "outputs": [
    {
     "data": {
      "text/plain": [
       "(12372, 5)"
      ]
     },
     "execution_count": 14,
     "metadata": {},
     "output_type": "execute_result"
    }
   ],
   "source": [
    "df.shape"
   ]
  },
  {
   "cell_type": "code",
   "execution_count": 15,
   "id": "82b8b4b3",
   "metadata": {},
   "outputs": [],
   "source": [
    "df.rename(columns={'publishing house': 'publisher'}, inplace=True)"
   ]
  },
  {
   "cell_type": "code",
   "execution_count": 16,
   "id": "a10b3dc7",
   "metadata": {
    "scrolled": false
   },
   "outputs": [
    {
     "data": {
      "text/html": [
       "<div>\n",
       "<style scoped>\n",
       "    .dataframe tbody tr th:only-of-type {\n",
       "        vertical-align: middle;\n",
       "    }\n",
       "\n",
       "    .dataframe tbody tr th {\n",
       "        vertical-align: top;\n",
       "    }\n",
       "\n",
       "    .dataframe thead th {\n",
       "        text-align: right;\n",
       "    }\n",
       "</style>\n",
       "<table border=\"1\" class=\"dataframe\">\n",
       "  <thead>\n",
       "    <tr style=\"text-align: right;\">\n",
       "      <th></th>\n",
       "      <th>title</th>\n",
       "      <th>description</th>\n",
       "      <th>genre</th>\n",
       "      <th>publisher</th>\n",
       "      <th>author</th>\n",
       "    </tr>\n",
       "  </thead>\n",
       "  <tbody>\n",
       "    <tr>\n",
       "      <th>0</th>\n",
       "      <td>Where Is Little Fish?</td>\n",
       "      <td>Play hide-and-seek with Lucy Cousins's Little ...</td>\n",
       "      <td>Activity books</td>\n",
       "      <td>Walker Books Ltd</td>\n",
       "      <td>Lucy Cousins</td>\n",
       "    </tr>\n",
       "    <tr>\n",
       "      <th>1</th>\n",
       "      <td>Uncommon Type: Some Stories</td>\n",
       "      <td>A gentle Eastern European immigrant arrives in...</td>\n",
       "      <td>Romance</td>\n",
       "      <td>Audiobooks</td>\n",
       "      <td>Tom Hanks</td>\n",
       "    </tr>\n",
       "    <tr>\n",
       "      <th>2</th>\n",
       "      <td>Trumpocracy: The Corruption of the American Re...</td>\n",
       "      <td>\"From Russia to South Africa, from Turkey to t...</td>\n",
       "      <td>Politics</td>\n",
       "      <td>Harper</td>\n",
       "      <td>David Frum</td>\n",
       "    </tr>\n",
       "    <tr>\n",
       "      <th>3</th>\n",
       "      <td>The Storyteller of Casablanca</td>\n",
       "      <td>Morocco, 1941. With France having fallen to Na...</td>\n",
       "      <td>Romance</td>\n",
       "      <td>Lake Union Publishing</td>\n",
       "      <td>Fiona Valpy</td>\n",
       "    </tr>\n",
       "    <tr>\n",
       "      <th>4</th>\n",
       "      <td>The Secret Commonwealth: The Book of Dust Volu...</td>\n",
       "      <td>It is twenty years since the events of La Bell...</td>\n",
       "      <td>Dedective</td>\n",
       "      <td>Penguin and David Fickling Books</td>\n",
       "      <td>Philip Pullman</td>\n",
       "    </tr>\n",
       "    <tr>\n",
       "      <th>...</th>\n",
       "      <td>...</td>\n",
       "      <td>...</td>\n",
       "      <td>...</td>\n",
       "      <td>...</td>\n",
       "      <td>...</td>\n",
       "    </tr>\n",
       "    <tr>\n",
       "      <th>12367</th>\n",
       "      <td>Charlie and the Chocolate Factory Audio CD</td>\n",
       "      <td>Puffin Audiobooks presents Roald Dahl's classi...</td>\n",
       "      <td>NaN</td>\n",
       "      <td>Puffin</td>\n",
       "      <td>Roald Dahl</td>\n",
       "    </tr>\n",
       "    <tr>\n",
       "      <th>12368</th>\n",
       "      <td>Case Histories Audio CD</td>\n",
       "      <td>It’s a sweltering summer in Cambridge as forme...</td>\n",
       "      <td>Детектив/Detektiv</td>\n",
       "      <td>Audiobooks</td>\n",
       "      <td>Kate Atkinson</td>\n",
       "    </tr>\n",
       "    <tr>\n",
       "      <th>12369</th>\n",
       "      <td>The Cobra Audio CD</td>\n",
       "      <td>The Cocaine industry is worth billions of doll...</td>\n",
       "      <td>Фантастика/Fantastika</td>\n",
       "      <td>Audiobooks</td>\n",
       "      <td>Frederick Forsyth</td>\n",
       "    </tr>\n",
       "    <tr>\n",
       "      <th>12370</th>\n",
       "      <td>Boy in Striped Pyjamas Audio CD</td>\n",
       "      <td>NaN</td>\n",
       "      <td>Художественная литература/Bədii ədəbiyyat</td>\n",
       "      <td>Random House</td>\n",
       "      <td>Michael Maloney (read by) John Boyne (author)</td>\n",
       "    </tr>\n",
       "    <tr>\n",
       "      <th>12371</th>\n",
       "      <td>The Godfather Trilogy Audio CD</td>\n",
       "      <td>Collection of all three movies of the award-wi...</td>\n",
       "      <td>Детектив/Detektiv</td>\n",
       "      <td>NaN</td>\n",
       "      <td>Mario Puzo</td>\n",
       "    </tr>\n",
       "  </tbody>\n",
       "</table>\n",
       "<p>12372 rows × 5 columns</p>\n",
       "</div>"
      ],
      "text/plain": [
       "                                                   title  \\\n",
       "0                                  Where Is Little Fish?   \n",
       "1                            Uncommon Type: Some Stories   \n",
       "2      Trumpocracy: The Corruption of the American Re...   \n",
       "3                          The Storyteller of Casablanca   \n",
       "4      The Secret Commonwealth: The Book of Dust Volu...   \n",
       "...                                                  ...   \n",
       "12367         Charlie and the Chocolate Factory Audio CD   \n",
       "12368                            Case Histories Audio CD   \n",
       "12369                                 The Cobra Audio CD   \n",
       "12370                    Boy in Striped Pyjamas Audio CD   \n",
       "12371                     The Godfather Trilogy Audio CD   \n",
       "\n",
       "                                             description  \\\n",
       "0      Play hide-and-seek with Lucy Cousins's Little ...   \n",
       "1      A gentle Eastern European immigrant arrives in...   \n",
       "2      \"From Russia to South Africa, from Turkey to t...   \n",
       "3      Morocco, 1941. With France having fallen to Na...   \n",
       "4      It is twenty years since the events of La Bell...   \n",
       "...                                                  ...   \n",
       "12367  Puffin Audiobooks presents Roald Dahl's classi...   \n",
       "12368  It’s a sweltering summer in Cambridge as forme...   \n",
       "12369  The Cocaine industry is worth billions of doll...   \n",
       "12370                                                NaN   \n",
       "12371  Collection of all three movies of the award-wi...   \n",
       "\n",
       "                                           genre  \\\n",
       "0                                 Activity books   \n",
       "1                                        Romance   \n",
       "2                                       Politics   \n",
       "3                                        Romance   \n",
       "4                                      Dedective   \n",
       "...                                          ...   \n",
       "12367                                        NaN   \n",
       "12368                          Детектив/Detektiv   \n",
       "12369                      Фантастика/Fantastika   \n",
       "12370  Художественная литература/Bədii ədəbiyyat   \n",
       "12371                          Детектив/Detektiv   \n",
       "\n",
       "                              publisher  \\\n",
       "0                      Walker Books Ltd   \n",
       "1                            Audiobooks   \n",
       "2                                Harper   \n",
       "3                 Lake Union Publishing   \n",
       "4      Penguin and David Fickling Books   \n",
       "...                                 ...   \n",
       "12367                            Puffin   \n",
       "12368                        Audiobooks   \n",
       "12369                        Audiobooks   \n",
       "12370                      Random House   \n",
       "12371                               NaN   \n",
       "\n",
       "                                              author  \n",
       "0                                       Lucy Cousins  \n",
       "1                                          Tom Hanks  \n",
       "2                                         David Frum  \n",
       "3                                        Fiona Valpy  \n",
       "4                                     Philip Pullman  \n",
       "...                                              ...  \n",
       "12367                                     Roald Dahl  \n",
       "12368                                  Kate Atkinson  \n",
       "12369                              Frederick Forsyth  \n",
       "12370  Michael Maloney (read by) John Boyne (author)  \n",
       "12371                                     Mario Puzo  \n",
       "\n",
       "[12372 rows x 5 columns]"
      ]
     },
     "execution_count": 16,
     "metadata": {},
     "output_type": "execute_result"
    }
   ],
   "source": [
    "df"
   ]
  },
  {
   "cell_type": "code",
   "execution_count": 17,
   "id": "15f92da6",
   "metadata": {},
   "outputs": [],
   "source": [
    "#combining columns\n",
    "df['Description'] = df.apply(lambda row: ' '.join(str(val) for val in row if not pd.isna(val)), axis=1)\n",
    "\n",
    "#removing unnecessary columns\n",
    "df.drop(['description', 'genre', 'publisher','author'], axis=1, inplace=True)"
   ]
  },
  {
   "cell_type": "code",
   "execution_count": 18,
   "id": "86cef8bc",
   "metadata": {},
   "outputs": [
    {
     "data": {
      "text/plain": [
       "title          0\n",
       "Description    0\n",
       "dtype: int64"
      ]
     },
     "execution_count": 18,
     "metadata": {},
     "output_type": "execute_result"
    }
   ],
   "source": [
    "df.isna().sum()"
   ]
  },
  {
   "cell_type": "code",
   "execution_count": 19,
   "id": "e097423a",
   "metadata": {},
   "outputs": [
    {
     "data": {
      "text/html": [
       "<div>\n",
       "<style scoped>\n",
       "    .dataframe tbody tr th:only-of-type {\n",
       "        vertical-align: middle;\n",
       "    }\n",
       "\n",
       "    .dataframe tbody tr th {\n",
       "        vertical-align: top;\n",
       "    }\n",
       "\n",
       "    .dataframe thead th {\n",
       "        text-align: right;\n",
       "    }\n",
       "</style>\n",
       "<table border=\"1\" class=\"dataframe\">\n",
       "  <thead>\n",
       "    <tr style=\"text-align: right;\">\n",
       "      <th></th>\n",
       "      <th>title</th>\n",
       "      <th>Description</th>\n",
       "    </tr>\n",
       "  </thead>\n",
       "  <tbody>\n",
       "    <tr>\n",
       "      <th>0</th>\n",
       "      <td>Where Is Little Fish?</td>\n",
       "      <td>Where Is Little Fish? Play hide-and-seek with ...</td>\n",
       "    </tr>\n",
       "    <tr>\n",
       "      <th>1</th>\n",
       "      <td>Uncommon Type: Some Stories</td>\n",
       "      <td>Uncommon Type: Some Stories A gentle Eastern E...</td>\n",
       "    </tr>\n",
       "    <tr>\n",
       "      <th>2</th>\n",
       "      <td>Trumpocracy: The Corruption of the American Re...</td>\n",
       "      <td>Trumpocracy: The Corruption of the American Re...</td>\n",
       "    </tr>\n",
       "    <tr>\n",
       "      <th>3</th>\n",
       "      <td>The Storyteller of Casablanca</td>\n",
       "      <td>The Storyteller of Casablanca Morocco, 1941. W...</td>\n",
       "    </tr>\n",
       "    <tr>\n",
       "      <th>4</th>\n",
       "      <td>The Secret Commonwealth: The Book of Dust Volu...</td>\n",
       "      <td>The Secret Commonwealth: The Book of Dust Volu...</td>\n",
       "    </tr>\n",
       "    <tr>\n",
       "      <th>...</th>\n",
       "      <td>...</td>\n",
       "      <td>...</td>\n",
       "    </tr>\n",
       "    <tr>\n",
       "      <th>12367</th>\n",
       "      <td>Charlie and the Chocolate Factory Audio CD</td>\n",
       "      <td>Charlie and the Chocolate Factory Audio CD Puf...</td>\n",
       "    </tr>\n",
       "    <tr>\n",
       "      <th>12368</th>\n",
       "      <td>Case Histories Audio CD</td>\n",
       "      <td>Case Histories Audio CD It’s a sweltering summ...</td>\n",
       "    </tr>\n",
       "    <tr>\n",
       "      <th>12369</th>\n",
       "      <td>The Cobra Audio CD</td>\n",
       "      <td>The Cobra Audio CD The Cocaine industry is wor...</td>\n",
       "    </tr>\n",
       "    <tr>\n",
       "      <th>12370</th>\n",
       "      <td>Boy in Striped Pyjamas Audio CD</td>\n",
       "      <td>Boy in Striped Pyjamas Audio CD Художественная...</td>\n",
       "    </tr>\n",
       "    <tr>\n",
       "      <th>12371</th>\n",
       "      <td>The Godfather Trilogy Audio CD</td>\n",
       "      <td>The Godfather Trilogy Audio CD Collection of a...</td>\n",
       "    </tr>\n",
       "  </tbody>\n",
       "</table>\n",
       "<p>12372 rows × 2 columns</p>\n",
       "</div>"
      ],
      "text/plain": [
       "                                                   title  \\\n",
       "0                                  Where Is Little Fish?   \n",
       "1                            Uncommon Type: Some Stories   \n",
       "2      Trumpocracy: The Corruption of the American Re...   \n",
       "3                          The Storyteller of Casablanca   \n",
       "4      The Secret Commonwealth: The Book of Dust Volu...   \n",
       "...                                                  ...   \n",
       "12367         Charlie and the Chocolate Factory Audio CD   \n",
       "12368                            Case Histories Audio CD   \n",
       "12369                                 The Cobra Audio CD   \n",
       "12370                    Boy in Striped Pyjamas Audio CD   \n",
       "12371                     The Godfather Trilogy Audio CD   \n",
       "\n",
       "                                             Description  \n",
       "0      Where Is Little Fish? Play hide-and-seek with ...  \n",
       "1      Uncommon Type: Some Stories A gentle Eastern E...  \n",
       "2      Trumpocracy: The Corruption of the American Re...  \n",
       "3      The Storyteller of Casablanca Morocco, 1941. W...  \n",
       "4      The Secret Commonwealth: The Book of Dust Volu...  \n",
       "...                                                  ...  \n",
       "12367  Charlie and the Chocolate Factory Audio CD Puf...  \n",
       "12368  Case Histories Audio CD It’s a sweltering summ...  \n",
       "12369  The Cobra Audio CD The Cocaine industry is wor...  \n",
       "12370  Boy in Striped Pyjamas Audio CD Художественная...  \n",
       "12371  The Godfather Trilogy Audio CD Collection of a...  \n",
       "\n",
       "[12372 rows x 2 columns]"
      ]
     },
     "execution_count": 19,
     "metadata": {},
     "output_type": "execute_result"
    }
   ],
   "source": [
    "df"
   ]
  },
  {
   "cell_type": "code",
   "execution_count": 20,
   "id": "b9c658f5",
   "metadata": {},
   "outputs": [
    {
     "data": {
      "text/plain": [
       "title          0\n",
       "Description    0\n",
       "dtype: int64"
      ]
     },
     "execution_count": 20,
     "metadata": {},
     "output_type": "execute_result"
    }
   ],
   "source": [
    "df.isna().sum()"
   ]
  },
  {
   "cell_type": "code",
   "execution_count": 21,
   "id": "f577cd16",
   "metadata": {},
   "outputs": [],
   "source": [
    "def get_recommendations(input_text, df, cosine_similarities=None):\n",
    "    # Use the existing cosine similarities if available\n",
    "    if cosine_similarities is None:\n",
    "        tfidf_vectorizer = TfidfVectorizer(stop_words='english')\n",
    "        tfidf_matrix = tfidf_vectorizer.fit_transform(df['Description'])\n",
    "        cosine_similarities = linear_kernel(tfidf_matrix, tfidf_matrix)\n",
    "\n",
    "    # Compute similarity with the input text\n",
    "    input_vector = tfidf_vectorizer.transform([input_text])\n",
    "    sim_scores = linear_kernel(input_vector, tfidf_matrix).flatten()\n",
    "\n",
    "    # Get top 5 similar books\n",
    "    sim_scores = sorted(enumerate(sim_scores), key=lambda x: x[1], reverse=True)[1:6]\n",
    "    book_indices = [i[0] for i in sim_scores]\n",
    "\n",
    "    # Return recommended books\n",
    "    return df['title'].iloc[book_indices]"
   ]
  },
  {
   "cell_type": "code",
   "execution_count": 25,
   "id": "1acca1f3",
   "metadata": {},
   "outputs": [
    {
     "name": "stdout",
     "output_type": "stream",
     "text": [
      "8259    Artificial Intelligence: A Guide for Thinking ...\n",
      "7678               Beginners Plus Artificial Intelligence\n",
      "3871                                           TrooFriend\n",
      "8778                   The Power of Physical Intelligence\n",
      "5575                   Artificial Intelligence Revolution\n",
      "Name: title, dtype: object\n"
     ]
    }
   ],
   "source": [
    "# Example usage:\n",
    "input_text = \"Artificial intelligence\"\n",
    "recommended_books = get_recommendations(input_text, df)\n",
    "print(recommended_books)"
   ]
  },
  {
   "cell_type": "code",
   "execution_count": null,
   "id": "85413255",
   "metadata": {},
   "outputs": [],
   "source": []
  }
 ],
 "metadata": {
  "kernelspec": {
   "display_name": "Python 3 (ipykernel)",
   "language": "python",
   "name": "python3"
  },
  "language_info": {
   "codemirror_mode": {
    "name": "ipython",
    "version": 3
   },
   "file_extension": ".py",
   "mimetype": "text/x-python",
   "name": "python",
   "nbconvert_exporter": "python",
   "pygments_lexer": "ipython3",
   "version": "3.11.4"
  }
 },
 "nbformat": 4,
 "nbformat_minor": 5
}
